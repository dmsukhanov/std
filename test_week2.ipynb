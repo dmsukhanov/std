{
 "cells": [
  {
   "cell_type": "code",
   "execution_count": 1,
   "metadata": {},
   "outputs": [],
   "source": [
    "file_obj = open('sentences.txt')\n",
    "data_list = file_obj.readlines()"
   ]
  },
  {
   "cell_type": "code",
   "execution_count": 2,
   "metadata": {},
   "outputs": [],
   "source": [
    "for line in data_list:\n",
    "    line_new = line.lower()"
   ]
  },
  {
   "cell_type": "code",
   "execution_count": 3,
   "metadata": {},
   "outputs": [],
   "source": [
    "new_data=[]\n",
    "for line in data_list:\n",
    "    new_data.append(line.lower())"
   ]
  },
  {
   "cell_type": "code",
   "execution_count": 4,
   "metadata": {},
   "outputs": [
    {
     "name": "stdout",
     "output_type": "stream",
     "text": [
      "in comparison to dogs, cats have not undergone major changes during the domestication process.\n",
      "\n"
     ]
    }
   ],
   "source": [
    "print new_data[0]"
   ]
  },
  {
   "cell_type": "code",
   "execution_count": 5,
   "metadata": {},
   "outputs": [
    {
     "name": "stdout",
     "output_type": "stream",
     "text": [
      "In comparison to dogs, cats have not undergone major changes during the domestication process.\n",
      "\n"
     ]
    }
   ],
   "source": [
    "print data_list[0]"
   ]
  },
  {
   "cell_type": "code",
   "execution_count": 6,
   "metadata": {},
   "outputs": [],
   "source": [
    "import re"
   ]
  },
  {
   "cell_type": "code",
   "execution_count": 7,
   "metadata": {},
   "outputs": [],
   "source": [
    "toc=[]\n",
    "for line in new_data:\n",
    "    toc.append(re.split('[^a-z]',line.strip('\\.\\n').lower()))"
   ]
  },
  {
   "cell_type": "code",
   "execution_count": 8,
   "metadata": {},
   "outputs": [],
   "source": [
    "toc2=[]\n",
    "for line in toc:\n",
    "    toc2.append(filter(lambda x: x !='', line))"
   ]
  },
  {
   "cell_type": "code",
   "execution_count": 9,
   "metadata": {},
   "outputs": [],
   "source": [
    "words = set()\n",
    "for i in range(len(toc2)):\n",
    "    for j in range(len(toc2[i])):\n",
    "        words.add(toc2[i][j])"
   ]
  },
  {
   "cell_type": "code",
   "execution_count": 10,
   "metadata": {},
   "outputs": [
    {
     "data": {
      "text/plain": [
       "254"
      ]
     },
     "execution_count": 10,
     "metadata": {},
     "output_type": "execute_result"
    }
   ],
   "source": [
    "len(words)"
   ]
  },
  {
   "cell_type": "code",
   "execution_count": 11,
   "metadata": {},
   "outputs": [
    {
     "name": "stdout",
     "output_type": "stream",
     "text": [
      "['in', 'comparison', 'to', 'dogs', 'cats', 'have', 'not', 'undergone', 'major', 'changes', 'during', 'the', 'domestication', 'process']\n"
     ]
    }
   ],
   "source": [
    "print toc2[0]"
   ]
  },
  {
   "cell_type": "code",
   "execution_count": 12,
   "metadata": {},
   "outputs": [],
   "source": [
    "k =0\n",
    "d_word = {}\n",
    "for i in range (len(toc2)):\n",
    "    for j in range(len(toc2[i])):\n",
    "        if toc2[i][j] not in d_word:\n",
    "            d_word[toc2[i][j]]=k\n",
    "            k+=1\n",
    "            "
   ]
  },
  {
   "cell_type": "code",
   "execution_count": 13,
   "metadata": {},
   "outputs": [
    {
     "data": {
      "text/plain": [
       "{'a': 33,\n",
       " 'according': 167,\n",
       " 'adjacent': 114,\n",
       " 'allow': 185,\n",
       " 'allows': 196,\n",
       " 'also': 24,\n",
       " 'an': 230,\n",
       " 'ancestor': 77,\n",
       " 'and': 58,\n",
       " 'animals': 61,\n",
       " 'any': 152,\n",
       " 'app': 208,\n",
       " 'apple': 168,\n",
       " 'are': 78,\n",
       " 'arguments': 153,\n",
       " 'artificial': 66,\n",
       " 'as': 14,\n",
       " 'available': 164,\n",
       " 'based': 200,\n",
       " 'basic': 136,\n",
       " 'be': 23,\n",
       " 'between': 95,\n",
       " 'binary': 27,\n",
       " 'both': 79,\n",
       " 'by': 56,\n",
       " 'bytes': 20,\n",
       " 'can': 22,\n",
       " 'cat': 15,\n",
       " 'catenates': 17,\n",
       " 'cats': 4,\n",
       " 'changes': 9,\n",
       " 'chromosomes': 84,\n",
       " 'clear': 130,\n",
       " 'closest': 75,\n",
       " 'command': 135,\n",
       " 'commands': 125,\n",
       " 'common': 34,\n",
       " 'community': 193,\n",
       " 'comparison': 1,\n",
       " 'computers': 178,\n",
       " 'concatenate': 26,\n",
       " 'concern': 107,\n",
       " 'connected': 127,\n",
       " 'contains': 169,\n",
       " 'content': 42,\n",
       " 'count': 253,\n",
       " 'create': 242,\n",
       " 'default': 109,\n",
       " 'delete': 119,\n",
       " 'deliberately': 64,\n",
       " 'developed': 194,\n",
       " 'diploid': 80,\n",
       " 'disk': 244,\n",
       " 'displays': 155,\n",
       " 'dogs': 3,\n",
       " 'domestic': 87,\n",
       " 'domesticated': 73,\n",
       " 'domestication': 12,\n",
       " 'download': 205,\n",
       " 'drive': 248,\n",
       " 'during': 10,\n",
       " 'ears': 52,\n",
       " 'editions': 166,\n",
       " 'enhancements': 171,\n",
       " 'entirely': 235,\n",
       " 'error': 106,\n",
       " 'every': 215,\n",
       " 'external': 247,\n",
       " 'factory': 180,\n",
       " 'faint': 47,\n",
       " 'features': 251,\n",
       " 'felis': 92,\n",
       " 'fifth': 249,\n",
       " 'file': 39,\n",
       " 'files': 28,\n",
       " 'firmware': 179,\n",
       " 'flow': 133,\n",
       " 'for': 37,\n",
       " 'frequency': 50,\n",
       " 'from': 146,\n",
       " 'genes': 86,\n",
       " 'genus': 91,\n",
       " 'has': 129,\n",
       " 'have': 5,\n",
       " 'hear': 44,\n",
       " 'high': 49,\n",
       " 'however': 98,\n",
       " 'human': 51,\n",
       " 'if': 99,\n",
       " 'in': 0,\n",
       " 'incremental': 231,\n",
       " 'information': 134,\n",
       " 'installation': 186,\n",
       " 'installed': 181,\n",
       " 'installs': 236,\n",
       " 'instead': 112,\n",
       " 'intel': 189,\n",
       " 'interactive': 35,\n",
       " 'is': 40,\n",
       " 'it': 21,\n",
       " 'its': 74,\n",
       " 'july': 203,\n",
       " 'just': 31,\n",
       " 'keyboards': 116,\n",
       " 'kg': 96,\n",
       " 'later': 197,\n",
       " 'lb': 97,\n",
       " 'learned': 137,\n",
       " 'left': 131,\n",
       " 'legibility': 124,\n",
       " 'leopard': 157,\n",
       " 'lines': 144,\n",
       " 'linux': 141,\n",
       " 'lion': 202,\n",
       " 'longer': 184,\n",
       " 'mac': 173,\n",
       " 'made': 55,\n",
       " 'major': 8,\n",
       " 'marks': 226,\n",
       " 'mavericks': 224,\n",
       " 'may': 117,\n",
       " 'members': 90,\n",
       " 'mice': 57,\n",
       " 'mid': 176,\n",
       " 'more': 252,\n",
       " 'most': 219,\n",
       " 'mountain': 201,\n",
       " 'moved': 188,\n",
       " 'named': 104,\n",
       " 'need': 241,\n",
       " 'needing': 121,\n",
       " 'new': 148,\n",
       " 'no': 183,\n",
       " 'non': 199,\n",
       " 'not': 6,\n",
       " 'now': 195,\n",
       " 'october': 160,\n",
       " 'of': 19,\n",
       " 'off': 246,\n",
       " 'offered': 229,\n",
       " 'often': 113,\n",
       " 'on': 115,\n",
       " 'one': 62,\n",
       " 'online': 214,\n",
       " 'or': 48,\n",
       " 'organisms': 81,\n",
       " 'os': 174,\n",
       " 'osx': 192,\n",
       " 'other': 59,\n",
       " 'output': 41,\n",
       " 'over': 170,\n",
       " 'part': 210,\n",
       " 'patch': 217,\n",
       " 'people': 63,\n",
       " 'permanently': 118,\n",
       " 'piped': 100,\n",
       " 'pipes': 128,\n",
       " 'place': 237,\n",
       " 'possess': 83,\n",
       " 'predators': 71,\n",
       " 'predecessor': 172,\n",
       " 'process': 13,\n",
       " 'processors': 190,\n",
       " 'purchase': 204,\n",
       " 'rather': 233,\n",
       " 'read': 122,\n",
       " 'received': 145,\n",
       " 'receives': 154,\n",
       " 'recent': 220,\n",
       " 'redirected': 101,\n",
       " 'redirection': 110,\n",
       " 'release': 225,\n",
       " 'released': 159,\n",
       " 'releases': 198,\n",
       " 'releasing': 212,\n",
       " 'right': 132,\n",
       " 'roughly': 85,\n",
       " 'run': 245,\n",
       " 'running': 222,\n",
       " 's': 207,\n",
       " 'safari': 221,\n",
       " 'safer': 105,\n",
       " 'second': 227,\n",
       " 'selection': 67,\n",
       " 'separate': 243,\n",
       " 'sequence': 32,\n",
       " 'similar': 88,\n",
       " 'simply': 16,\n",
       " 'since': 187,\n",
       " 'single': 38,\n",
       " 'size': 89,\n",
       " 'small': 60,\n",
       " 'so': 238,\n",
       " 'some': 177,\n",
       " 'sounds': 45,\n",
       " 'standard': 43,\n",
       " 'started': 139,\n",
       " 'starting': 126,\n",
       " 'stdin': 147,\n",
       " 'stdout': 156,\n",
       " 'store': 209,\n",
       " 'streams': 18,\n",
       " 'successor': 161,\n",
       " 'such': 53,\n",
       " 'switch': 211,\n",
       " 'symbol': 111,\n",
       " 'symbols': 149,\n",
       " 't': 240,\n",
       " 'tamed': 65,\n",
       " 'terms': 123,\n",
       " 'than': 234,\n",
       " 'that': 82,\n",
       " 'the': 11,\n",
       " 'their': 191,\n",
       " 'they': 68,\n",
       " 'those': 54,\n",
       " 'three': 218,\n",
       " 'through': 206,\n",
       " 'tiger': 162,\n",
       " 'time': 228,\n",
       " 'to': 2,\n",
       " 'too': 46,\n",
       " 'two': 165,\n",
       " 'type': 150,\n",
       " 'typically': 93,\n",
       " 'undergone': 7,\n",
       " 'unix': 140,\n",
       " 'unnecessary': 102,\n",
       " 'update': 250,\n",
       " 'upgrade': 232,\n",
       " 'use': 36,\n",
       " 'used': 25,\n",
       " 'useful': 70,\n",
       " 'using': 143,\n",
       " 'vermin': 72,\n",
       " 'version': 163,\n",
       " 'versions': 213,\n",
       " 'was': 158,\n",
       " 'weighing': 94,\n",
       " 'were': 69,\n",
       " 'when': 138,\n",
       " 'where': 29,\n",
       " 'which': 182,\n",
       " 'wild': 76,\n",
       " 'will': 30,\n",
       " 'with': 103,\n",
       " 'without': 151,\n",
       " 'won': 239,\n",
       " 'world': 142,\n",
       " 'wrong': 108,\n",
       " 'x': 175,\n",
       " 'year': 216,\n",
       " 'yosemite': 223,\n",
       " 'you': 120}"
      ]
     },
     "execution_count": 13,
     "metadata": {},
     "output_type": "execute_result"
    }
   ],
   "source": [
    "d_word"
   ]
  },
  {
   "cell_type": "code",
   "execution_count": 14,
   "metadata": {},
   "outputs": [],
   "source": [
    "import numpy as np"
   ]
  },
  {
   "cell_type": "code",
   "execution_count": 15,
   "metadata": {},
   "outputs": [],
   "source": [
    "m = np.zeros((22,254))"
   ]
  },
  {
   "cell_type": "code",
   "execution_count": 16,
   "metadata": {},
   "outputs": [
    {
     "name": "stdout",
     "output_type": "stream",
     "text": [
      "[0.]\n"
     ]
    }
   ],
   "source": [
    "print m[[0],[0]]"
   ]
  },
  {
   "cell_type": "code",
   "execution_count": 203,
   "metadata": {},
   "outputs": [],
   "source": [
    "m[[0],[0]]=1."
   ]
  },
  {
   "cell_type": "code",
   "execution_count": 193,
   "metadata": {},
   "outputs": [
    {
     "name": "stdout",
     "output_type": "stream",
     "text": [
      "1\n"
     ]
    }
   ],
   "source": [
    "print toc2[1].count(toc2[1][1])\n"
   ]
  },
  {
   "cell_type": "code",
   "execution_count": 199,
   "metadata": {},
   "outputs": [
    {
     "name": "stdout",
     "output_type": "stream",
     "text": [
      "33\n"
     ]
    }
   ],
   "source": [
    "print d_word.get('a')"
   ]
  },
  {
   "cell_type": "code",
   "execution_count": 17,
   "metadata": {},
   "outputs": [],
   "source": [
    "i = 1\n",
    "for r in range(len(toc2)):\n",
    "    for c in range(len(toc2[r])):\n",
    "        m[[r],[d_word.get(toc2[r][c])]]=toc2[r].count(toc2[r][c])\n",
    "\n"
   ]
  },
  {
   "cell_type": "code",
   "execution_count": null,
   "metadata": {},
   "outputs": [],
   "source": [
    "print m"
   ]
  },
  {
   "cell_type": "code",
   "execution_count": null,
   "metadata": {},
   "outputs": [],
   "source": [
    "print m[1, :]"
   ]
  },
  {
   "cell_type": "code",
   "execution_count": 18,
   "metadata": {},
   "outputs": [],
   "source": [
    "import scipy.spatial.distance as spdist"
   ]
  },
  {
   "cell_type": "code",
   "execution_count": 20,
   "metadata": {},
   "outputs": [
    {
     "name": "stdout",
     "output_type": "stream",
     "text": [
      "1 0.9527544408738466\n",
      "2 0.8644738145642124\n",
      "3 0.8951715163278082\n",
      "4 0.7770887149698589\n",
      "5 0.9402385695332803\n",
      "6 0.7327387580875756\n",
      "7 0.9258750683338899\n",
      "8 0.8842724875284311\n",
      "9 0.9055088817476932\n",
      "10 0.8328165362273942\n",
      "11 0.8804771390665607\n",
      "12 0.8396432548525454\n",
      "13 0.8703592552895671\n",
      "14 0.8740118423302576\n",
      "15 0.9442721787424647\n",
      "16 0.8406361854220809\n",
      "17 0.956644501523794\n",
      "18 0.9442721787424647\n",
      "19 0.8885443574849294\n",
      "20 0.8427572744917122\n",
      "21 0.8250364469440588\n"
     ]
    }
   ],
   "source": [
    "u = m[0, :]\n",
    "i=1\n",
    "while i < 22:\n",
    "    print i, spdist.cosine(m[0, :], m[i, :])\n",
    "    i+=1"
   ]
  },
  {
   "cell_type": "code",
   "execution_count": null,
   "metadata": {},
   "outputs": [],
   "source": [
    "spdist.cosine(m[0, :], m[21, :])"
   ]
  },
  {
   "cell_type": "code",
   "execution_count": 29,
   "metadata": {},
   "outputs": [
    {
     "name": "stdout",
     "output_type": "stream",
     "text": [
      "484\n"
     ]
    }
   ],
   "source": [
    "r=0\n",
    "for i in range(len(toc2)):\n",
    "        r=r+len(toc2[i])\n",
    "print r"
   ]
  },
  {
   "cell_type": "code",
   "execution_count": 73,
   "metadata": {},
   "outputs": [
    {
     "name": "stdout",
     "output_type": "stream",
     "text": [
      "484.0\n"
     ]
    }
   ],
   "source": [
    "t = 0\n",
    "r = 0\n",
    "while r <22:\n",
    "    t = t + sum(m[r, :])\n",
    "    r+=1\n",
    "print t"
   ]
  },
  {
   "cell_type": "code",
   "execution_count": 72,
   "metadata": {},
   "outputs": [
    {
     "name": "stdout",
     "output_type": "stream",
     "text": [
      "24.0\n"
     ]
    }
   ],
   "source": [
    " print sum(m[1, :])"
   ]
  }
 ],
 "metadata": {
  "kernelspec": {
   "display_name": "Python 2",
   "language": "python",
   "name": "python2"
  },
  "language_info": {
   "codemirror_mode": {
    "name": "ipython",
    "version": 2
   },
   "file_extension": ".py",
   "mimetype": "text/x-python",
   "name": "python",
   "nbconvert_exporter": "python",
   "pygments_lexer": "ipython2",
   "version": "2.7.16"
  }
 },
 "nbformat": 4,
 "nbformat_minor": 2
}
